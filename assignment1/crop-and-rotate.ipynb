{
 "cells": [
  {
   "cell_type": "code",
   "execution_count": null,
   "metadata": {},
   "outputs": [],
   "source": [
    "import cv2\n",
    "import matplotlib.pyplot as plt\n",
    "import numpy as np"
   ]
  },
  {
   "attachments": {},
   "cell_type": "markdown",
   "metadata": {},
   "source": [
    "### 設定"
   ]
  },
  {
   "cell_type": "code",
   "execution_count": null,
   "metadata": {},
   "outputs": [],
   "source": [
    "file_name = \"./yzu.bmp\"\n",
    "origin_img = cv2.imread(file_name)\n",
    "result_img = origin_img\n",
    "\n",
    "bar_degree = 0\n",
    "bar_radius = 0"
   ]
  },
  {
   "attachments": {},
   "cell_type": "markdown",
   "metadata": {},
   "source": [
    "### Print Image"
   ]
  },
  {
   "cell_type": "code",
   "execution_count": null,
   "metadata": {},
   "outputs": [],
   "source": [
    "def show_img(img):\n",
    "    image_rgb = cv2.cvtColor(img, cv2.COLOR_BGR2RGB)\n",
    "    plt.imshow(image_rgb)\n",
    "    plt.show()"
   ]
  },
  {
   "attachments": {},
   "cell_type": "markdown",
   "metadata": {},
   "source": [
    "### Functions"
   ]
  },
  {
   "attachments": {},
   "cell_type": "markdown",
   "metadata": {},
   "source": [
    "旋轉"
   ]
  },
  {
   "cell_type": "code",
   "execution_count": null,
   "metadata": {},
   "outputs": [],
   "source": [
    "def rotate_img(img, val):\n",
    "    (h, w, d) = img.shape # 讀取圖片大小\n",
    "    center = (w // 2, h // 2) # 找到圖片中心\n",
    "    \n",
    "    # 取得旋轉矩陣\n",
    "    M = cv2.getRotationMatrix2D(center, val, 1.0)\n",
    "    print(val)\n",
    "    \n",
    "    result_img = cv2.warpAffine(img, M, (w, h))\n",
    "    show_img(result_img)\n",
    "\n",
    "    return result_img"
   ]
  },
  {
   "attachments": {},
   "cell_type": "markdown",
   "metadata": {},
   "source": [
    "擷取圓形"
   ]
  },
  {
   "cell_type": "code",
   "execution_count": null,
   "metadata": {},
   "outputs": [],
   "source": [
    "def crop_circle(radius):\n",
    "    global origin_img\n",
    "    (h, w, d) = origin_img.shape # 讀取圖片大小\n",
    "    center = (w // 2, h // 2)\n",
    "\n",
    "    # 產生 mask\n",
    "    mask = np.zeros_like(origin_img)\n",
    "    mask = cv2.circle(mask, center, radius, (255,255,255), -1)\n",
    "    print(\"mask: \")\n",
    "    show_img(mask)\n",
    "\n",
    "    # 取得圓形圖片\n",
    "    crop = cv2.bitwise_and(origin_img, mask)\n",
    "\n",
    "    return crop"
   ]
  },
  {
   "attachments": {},
   "cell_type": "markdown",
   "metadata": {},
   "source": [
    "結合兩種圖形"
   ]
  },
  {
   "cell_type": "code",
   "execution_count": null,
   "metadata": {},
   "outputs": [],
   "source": [
    "def combine_img(center_img, radius):\n",
    "    global origin_img\n",
    "    (h, w, d) = origin_img.shape # 讀取圖片大小\n",
    "    center = (w // 2, h // 2)\n",
    "    \n",
    "    # 產生 mask\n",
    "    mask = np.zeros_like(origin_img)\n",
    "    mask = cv2.circle(mask, center, radius, (255,255,255), -1)\n",
    "    mask = cv2.bitwise_not(mask)\n",
    "    print(\"mask: \")\n",
    "    show_img(mask)\n",
    "\n",
    "    # 取得圓形圖片 \n",
    "    crop = cv2.bitwise_and(origin_img, mask)\n",
    "\n",
    "    # 結合兩張圖片\n",
    "    combined_img = cv2.bitwise_or(center_img, crop)\n",
    "\n",
    "    return combined_img"
   ]
  },
  {
   "attachments": {},
   "cell_type": "markdown",
   "metadata": {},
   "source": [
    "旋轉中心並貼上"
   ]
  },
  {
   "cell_type": "code",
   "execution_count": null,
   "metadata": {},
   "outputs": [],
   "source": [
    "def crop_and_rotate(degree, radius):\n",
    "    center_img = crop_circle(radius); \n",
    "    print(\"center_img\")\n",
    "    show_img(center_img)\n",
    "    rotated_round_img = rotate_img(center_img, degree)\n",
    "    print(\"rotated_round_img\")\n",
    "    show_img(rotated_round_img)\n",
    "    result_img = combine_img(rotated_round_img, radius)\n",
    "    print(\"result_img: \")\n",
    "    show_img(result_img)\n",
    "\n",
    "    cv2.imshow(\"Rotate Image\", result_img)"
   ]
  },
  {
   "attachments": {},
   "cell_type": "markdown",
   "metadata": {},
   "source": [
    "Trackbar 變更後要執行的 Functions"
   ]
  },
  {
   "cell_type": "code",
   "execution_count": null,
   "metadata": {},
   "outputs": [],
   "source": [
    "def rotate_bar(degree):\n",
    "    global bar_degree, bar_radius\n",
    "    bar_degree = degree\n",
    "\n",
    "    crop_and_rotate(bar_degree, bar_radius)"
   ]
  },
  {
   "cell_type": "code",
   "execution_count": null,
   "metadata": {},
   "outputs": [],
   "source": [
    "def radius_bar(radius):\n",
    "    global bar_degree, bar_radius\n",
    "    bar_radius = radius\n",
    "\n",
    "    crop_and_rotate(bar_degree, bar_radius)"
   ]
  },
  {
   "attachments": {},
   "cell_type": "markdown",
   "metadata": {},
   "source": [
    "### 主程式碼\n",
    "\n"
   ]
  },
  {
   "attachments": {},
   "cell_type": "markdown",
   "metadata": {},
   "source": [
    "建立要顯示圖片的視窗與滑桿"
   ]
  },
  {
   "cell_type": "code",
   "execution_count": null,
   "metadata": {},
   "outputs": [],
   "source": [
    "cv2.imshow(\"Rotate Image\", result_img)\n",
    "cv2.createTrackbar(\"degree\", \"Rotate Image\", 0, 359, rotate_bar)\n",
    "cv2.setTrackbarPos(\"degree\", \"Rotate Image\", 180)\n",
    "\n",
    "max_radius = min(origin_img.shape[0], origin_img.shape[1]) // 2\n",
    "cv2.createTrackbar(\"radius\", \"Rotate Image\", 0, max_radius, radius_bar)\n",
    "cv2.setTrackbarPos(\"radius\", \"Rotate Image\", max_radius // 2)\n",
    "\n",
    "keycode = cv2.waitKey(0)\n",
    "cv2.destroyAllWindows()"
   ]
  },
  {
   "attachments": {},
   "cell_type": "markdown",
   "metadata": {},
   "source": [
    "result image"
   ]
  },
  {
   "cell_type": "code",
   "execution_count": null,
   "metadata": {},
   "outputs": [],
   "source": [
    "print(\"orgin image: \")\n",
    "show_img(origin_img)\n",
    "print(\"result image: \")\n",
    "show_img(result_img)"
   ]
  }
 ],
 "metadata": {
  "kernelspec": {
   "display_name": "porntect",
   "language": "python",
   "name": "python3"
  },
  "language_info": {
   "codemirror_mode": {
    "name": "ipython",
    "version": 3
   },
   "file_extension": ".py",
   "mimetype": "text/x-python",
   "name": "python",
   "nbconvert_exporter": "python",
   "pygments_lexer": "ipython3",
   "version": "3.9.16"
  },
  "orig_nbformat": 4
 },
 "nbformat": 4,
 "nbformat_minor": 2
}
