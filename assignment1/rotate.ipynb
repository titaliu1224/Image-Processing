{
 "cells": [
  {
   "cell_type": "code",
   "execution_count": null,
   "metadata": {},
   "outputs": [],
   "source": [
    "import cv2\n",
    "import matplotlib.pyplot as plt\n",
    "import numpy as np"
   ]
  },
  {
   "cell_type": "code",
   "execution_count": null,
   "metadata": {},
   "outputs": [],
   "source": [
    "file_name = \"./yzu.bmp\"\n",
    "origin_img = cv2.imread(file_name)\n",
    "result_img = origin_img"
   ]
  },
  {
   "attachments": {},
   "cell_type": "markdown",
   "metadata": {},
   "source": [
    "### Print Image"
   ]
  },
  {
   "cell_type": "code",
   "execution_count": null,
   "metadata": {},
   "outputs": [],
   "source": [
    "def show_img(img):\n",
    "    image_rgb = cv2.cvtColor(img, cv2.COLOR_BGR2RGB)\n",
    "    plt.imshow(image_rgb)\n",
    "    plt.show()"
   ]
  },
  {
   "attachments": {},
   "cell_type": "markdown",
   "metadata": {},
   "source": [
    "### Functions"
   ]
  },
  {
   "attachments": {},
   "cell_type": "markdown",
   "metadata": {},
   "source": [
    "旋轉"
   ]
  },
  {
   "cell_type": "code",
   "execution_count": null,
   "metadata": {},
   "outputs": [],
   "source": [
    "def rotate_img(val):\n",
    "    global origin_img, result_img\n",
    "    (h, w, d) = origin_img.shape # 讀取圖片大小\n",
    "    center = (w // 2, h // 2) # 找到圖片中心\n",
    "    \n",
    "    # 取得旋轉矩陣\n",
    "    M = cv2.getRotationMatrix2D(center, val, 1.0)\n",
    "    print(val)\n",
    "    \n",
    "    result_img = cv2.warpAffine(origin_img, M, (w, h))\n",
    "    cv2.imshow(\"Rotate Image\", result_img)"
   ]
  },
  {
   "attachments": {},
   "cell_type": "markdown",
   "metadata": {},
   "source": [
    "擷取圓形"
   ]
  },
  {
   "cell_type": "code",
   "execution_count": null,
   "metadata": {},
   "outputs": [],
   "source": [
    "def crop_circle(radius):\n",
    "    global origin_img\n",
    "    (h, w, d) = origin_img.shape # 讀取圖片大小\n",
    "    center = (w // 2, h // 2)\n",
    "\n",
    "    # 產生 mask\n",
    "    mask = np.zeros_like(origin_img)\n",
    "    mask = cv2.circle(mask, center, radius, (255,255,255), -1)\n",
    "    print(\"mask: \")\n",
    "    show_img(mask)\n",
    "\n",
    "    # 自己跟自己的圓形區域做 AND -> 圓形的自己 \n",
    "    crop = cv2.bitwise_and(origin_img, origin_img, mask=mask)\n",
    "    print(\"cropped image: \")\n",
    "    show_img(crop)"
   ]
  },
  {
   "attachments": {},
   "cell_type": "markdown",
   "metadata": {},
   "source": [
    "### 主程式碼\n",
    "\n"
   ]
  },
  {
   "attachments": {},
   "cell_type": "markdown",
   "metadata": {},
   "source": [
    "建立要顯示圖片的視窗與滑桿"
   ]
  },
  {
   "cell_type": "code",
   "execution_count": null,
   "metadata": {},
   "outputs": [],
   "source": [
    "cv2.imshow(\"Rotate Image\", result_img)\n",
    "cv2.createTrackbar(\"degree\", \"Rotate Image\", 0, 359, rotate_img)\n",
    "keycode = cv2.waitKey(0)\n",
    "cv2.destroyAllWindows()"
   ]
  },
  {
   "attachments": {},
   "cell_type": "markdown",
   "metadata": {},
   "source": [
    "result image"
   ]
  },
  {
   "cell_type": "code",
   "execution_count": null,
   "metadata": {},
   "outputs": [],
   "source": [
    "print(\"orgin image: \")\n",
    "show_img(origin_img)\n",
    "print(\"result image: \")\n",
    "show_img(result_img)"
   ]
  }
 ],
 "metadata": {
  "kernelspec": {
   "display_name": "porntect",
   "language": "python",
   "name": "python3"
  },
  "language_info": {
   "codemirror_mode": {
    "name": "ipython",
    "version": 3
   },
   "file_extension": ".py",
   "mimetype": "text/x-python",
   "name": "python",
   "nbconvert_exporter": "python",
   "pygments_lexer": "ipython3",
   "version": "3.9.16"
  },
  "orig_nbformat": 4
 },
 "nbformat": 4,
 "nbformat_minor": 2
}
